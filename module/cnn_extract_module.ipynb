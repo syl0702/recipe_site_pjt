{
 "cells": [
  {
   "cell_type": "code",
   "execution_count": 1,
   "id": "807f8936-5e4c-43d3-ac36-3ad852b5e323",
   "metadata": {},
   "outputs": [],
   "source": [
    "import pandas as pd\n",
    "import numpy as np\n",
    "from sklearn.metrics.pairwise import cosine_similarity\n",
    "from sqlalchemy import create_engine\n",
    "username = \"multi01\"\n",
    "password = \"1111\"\n",
    "host = \"ec2-15-168-111-154.ap-northeast-3.compute.amazonaws.com\"\n",
    "database_name = \"recipe_db\"\n",
    "\n",
    "db_connection_str = f'mysql+pymysql://{username}:{password}@{host}/{database_name}'\n",
    "db_connection = create_engine(db_connection_str)"
   ]
  },
  {
   "cell_type": "code",
   "execution_count": 8,
   "id": "0794b669-6cd5-45b6-8011-d7347142a5c8",
   "metadata": {},
   "outputs": [],
   "source": [
    "keyword = \"감바스\" # from cnn result"
   ]
  },
  {
   "cell_type": "markdown",
   "id": "769235f3-e671-4508-bdee-650b3e791394",
   "metadata": {},
   "source": [
    "## 재료와 카테고리 가져오기"
   ]
  },
  {
   "cell_type": "code",
   "execution_count": 6,
   "id": "c0472315-10e1-47ad-8b2d-5bd1cd66c20f",
   "metadata": {},
   "outputs": [],
   "source": [
    "def extract_posts(keyword):\n",
    "    # 각 게시물 별 평점의 평균값 구하기\n",
    "    query = '''\n",
    "    SELECT *\n",
    "    FROM recipe_db.posts_rating;\n",
    "    '''\n",
    "    r_df = pd.read_sql(query, con=db_connection)\n",
    "    # 'id'와 'user_id' 열 제거\n",
    "    r_df.drop(['id', 'user_id'], axis=1, inplace=True)\n",
    "    \n",
    "    # 'post_id' 열을 기준으로 데이터프레임 정렬\n",
    "    r_df.sort_values(by='post_id', inplace=True)\n",
    "    # 'post_id'별 'score'의 합과 개수 계산\n",
    "    post_id_summary = r_df.groupby('post_id')['score'].agg(['sum', 'count']).reset_index()\n",
    "    \n",
    "    # 'score'의 합을 'count'로 나누어 평균 계산\n",
    "    post_id_summary['mean'] = post_id_summary['sum'] / post_id_summary['count']\n",
    "    \n",
    "    # 새로운 데이터프레임 생성\n",
    "    mean_df = post_id_summary[['post_id', 'mean']]\n",
    "    query2 = f'''\n",
    "    SELECT id\n",
    "    FROM recipe_db.posts_post\n",
    "    WHERE INSTR(title, '{keyword}') > 0;\n",
    "    '''\n",
    "    e_df = pd.read_sql(query2, con=db_connection)\n",
    "    id_list = e_df['id'].tolist()\n",
    "    # id_list에 있는 각 post_id에 해당하는 평균값 추출\n",
    "    id_means = mean_df[mean_df['post_id'].isin(id_list)]\n",
    "\n",
    "    # id_means가 비어 있는지 확인하고 예외처리 추가\n",
    "    if not id_means.empty:\n",
    "        max_mean_post_id = id_means.loc[id_means['mean'].idxmax()]['post_id']\n",
    "\n",
    "        query3 = '''\n",
    "        SELECT C.ingred_name, A.post_id\n",
    "        FROM recipe_db.posts_recipeingred A \n",
    "        LEFT JOIN recipe_db.posts_post B ON A.post_id = B.id\n",
    "        LEFT JOIN recipe_db.posts_ingred C ON A.ingred_id = C.id;\n",
    "        '''\n",
    "        i_df = pd.read_sql(query3, con=db_connection)\n",
    "        # post_id별 ingred_name 리스트로 모으기\n",
    "        grouped_ingreds = i_df.groupby('post_id')['ingred_name'].apply(list).reset_index()\n",
    "        result = grouped_ingreds[grouped_ingreds['post_id'] == max_mean_post_id]['ingred_name'].values[0]\n",
    "    \n",
    "        query4 = '''\n",
    "        SELECT id, cate1, cate2, cate3\n",
    "        FROM recipe_db.posts_post;\n",
    "        '''\n",
    "        cate_df = pd.read_sql(query4, con=db_connection)\n",
    "        result2 = cate_df[cate_df['id'] == max_mean_post_id][['cate1', 'cate2', 'cate3']]\n",
    "        result_list = result2.values.flatten().tolist()\n",
    "        return result, result_list\n",
    "    else:\n",
    "    # id_means가 비어 있을 때 처리할 내용 추가\n",
    "        return None, None  # 또는 다른 처리 방법을 선택하여 반환"
   ]
  },
  {
   "cell_type": "code",
   "execution_count": 9,
   "id": "17acbfea-de36-4436-bc8d-87292975af20",
   "metadata": {},
   "outputs": [
    {
     "data": {
      "text/plain": [
       "(['올리브오일', '마늘', '후추', '파슬리', '칵테일새우', '페퍼론치노', '소금', '바게트'],\n",
       " ['양식', '술안주', '해물'])"
      ]
     },
     "execution_count": 9,
     "metadata": {},
     "output_type": "execute_result"
    }
   ],
   "source": [
    "extract_posts(keyword)"
   ]
  },
  {
   "cell_type": "code",
   "execution_count": null,
   "id": "3437f7f7-e1de-4e03-bec6-cbb8aca499e9",
   "metadata": {},
   "outputs": [],
   "source": []
  },
  {
   "cell_type": "code",
   "execution_count": null,
   "id": "1f608413-ed2d-4f89-9e40-c4bce0ac3b53",
   "metadata": {},
   "outputs": [],
   "source": []
  },
  {
   "cell_type": "code",
   "execution_count": null,
   "id": "10e37a35-215b-4c9e-a376-61765921f8af",
   "metadata": {},
   "outputs": [],
   "source": []
  }
 ],
 "metadata": {
  "kernelspec": {
   "display_name": "Python 3 (ipykernel)",
   "language": "python",
   "name": "python3"
  },
  "language_info": {
   "codemirror_mode": {
    "name": "ipython",
    "version": 3
   },
   "file_extension": ".py",
   "mimetype": "text/x-python",
   "name": "python",
   "nbconvert_exporter": "python",
   "pygments_lexer": "ipython3",
   "version": "3.11.4"
  }
 },
 "nbformat": 4,
 "nbformat_minor": 5
}
