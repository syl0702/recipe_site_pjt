{
 "cells": [
  {
   "cell_type": "code",
   "execution_count": 1,
   "metadata": {
    "colab": {
     "base_uri": "https://localhost:8080/",
     "height": 206
    },
    "id": "ebpdEnfYDgmi",
    "outputId": "0b4e203b-eea0-4e84-cb15-14bc99e6e7aa"
   },
   "outputs": [
    {
     "data": {
      "text/html": [
       "<div>\n",
       "<style scoped>\n",
       "    .dataframe tbody tr th:only-of-type {\n",
       "        vertical-align: middle;\n",
       "    }\n",
       "\n",
       "    .dataframe tbody tr th {\n",
       "        vertical-align: top;\n",
       "    }\n",
       "\n",
       "    .dataframe thead th {\n",
       "        text-align: right;\n",
       "    }\n",
       "</style>\n",
       "<table border=\"1\" class=\"dataframe\">\n",
       "  <thead>\n",
       "    <tr style=\"text-align: right;\">\n",
       "      <th></th>\n",
       "      <th>게시글 id</th>\n",
       "      <th>재료이름</th>\n",
       "    </tr>\n",
       "  </thead>\n",
       "  <tbody>\n",
       "    <tr>\n",
       "      <th>0</th>\n",
       "      <td>1</td>\n",
       "      <td>꽁치통조림</td>\n",
       "    </tr>\n",
       "    <tr>\n",
       "      <th>1</th>\n",
       "      <td>1</td>\n",
       "      <td>꽁치통조림국물</td>\n",
       "    </tr>\n",
       "    <tr>\n",
       "      <th>2</th>\n",
       "      <td>1</td>\n",
       "      <td>시래기</td>\n",
       "    </tr>\n",
       "    <tr>\n",
       "      <th>3</th>\n",
       "      <td>1</td>\n",
       "      <td>물</td>\n",
       "    </tr>\n",
       "    <tr>\n",
       "      <th>4</th>\n",
       "      <td>1</td>\n",
       "      <td>부추</td>\n",
       "    </tr>\n",
       "  </tbody>\n",
       "</table>\n",
       "</div>"
      ],
      "text/plain": [
       "   게시글 id     재료이름\n",
       "0       1    꽁치통조림\n",
       "1       1  꽁치통조림국물\n",
       "2       1      시래기\n",
       "3       1        물\n",
       "4       1       부추"
      ]
     },
     "execution_count": 1,
     "metadata": {},
     "output_type": "execute_result"
    }
   ],
   "source": [
    "import pandas as pd\n",
    "\n",
    "df = pd.read_csv(\"./data./final.csv\")\n",
    "df.head()"
   ]
  },
  {
   "cell_type": "code",
   "execution_count": 2,
   "metadata": {},
   "outputs": [
    {
     "name": "stdout",
     "output_type": "stream",
     "text": [
      "<class 'pandas.core.frame.DataFrame'>\n",
      "RangeIndex: 155106 entries, 0 to 155105\n",
      "Data columns (total 2 columns):\n",
      " #   Column  Non-Null Count   Dtype \n",
      "---  ------  --------------   ----- \n",
      " 0   게시글 id  155106 non-null  int64 \n",
      " 1   재료이름    155079 non-null  object\n",
      "dtypes: int64(1), object(1)\n",
      "memory usage: 2.4+ MB\n"
     ]
    }
   ],
   "source": [
    "df.info()"
   ]
  },
  {
   "cell_type": "code",
   "execution_count": 3,
   "metadata": {},
   "outputs": [
    {
     "data": {
      "text/plain": [
       "0           꽁치통조림\n",
       "1         꽁치통조림국물\n",
       "2             시래기\n",
       "3               물\n",
       "4              부추\n",
       "           ...   \n",
       "155101       다진스팸\n",
       "155102          밥\n",
       "155103         간장\n",
       "155104         달걀\n",
       "155105        참기름\n",
       "Name: 재료이름, Length: 155106, dtype: object"
      ]
     },
     "execution_count": 3,
     "metadata": {},
     "output_type": "execute_result"
    }
   ],
   "source": [
    "df['재료이름']"
   ]
  },
  {
   "cell_type": "code",
   "execution_count": 5,
   "metadata": {},
   "outputs": [],
   "source": [
    "def make_sentence(data):\n",
    "    # 문자열로 변환 후 \" \"으로 join\n",
    "    return \" \".join(str(item) for item in data).strip()\n",
    "\n",
    "# 그룹화 후 agg 함수에 적용\n",
    "# df.groupby(\"게시글 id\").agg({\n",
    "#     \"재료이름\": make_sentence\n",
    "# }).to_csv(\"corpus.csv\")"
   ]
  },
  {
   "cell_type": "code",
   "execution_count": 6,
   "metadata": {
    "colab": {
     "base_uri": "https://localhost:8080/",
     "height": 237
    },
    "id": "DLRzq0paD7PM",
    "outputId": "9fe83073-ec17-4632-d834-534c81e66589"
   },
   "outputs": [
    {
     "data": {
      "text/html": [
       "<div>\n",
       "<style scoped>\n",
       "    .dataframe tbody tr th:only-of-type {\n",
       "        vertical-align: middle;\n",
       "    }\n",
       "\n",
       "    .dataframe tbody tr th {\n",
       "        vertical-align: top;\n",
       "    }\n",
       "\n",
       "    .dataframe thead th {\n",
       "        text-align: right;\n",
       "    }\n",
       "</style>\n",
       "<table border=\"1\" class=\"dataframe\">\n",
       "  <thead>\n",
       "    <tr style=\"text-align: right;\">\n",
       "      <th></th>\n",
       "      <th>재료이름</th>\n",
       "    </tr>\n",
       "    <tr>\n",
       "      <th>게시글 id</th>\n",
       "      <th></th>\n",
       "    </tr>\n",
       "  </thead>\n",
       "  <tbody>\n",
       "    <tr>\n",
       "      <th>1</th>\n",
       "      <td>꽁치통조림 꽁치통조림국물 시래기 물 부추 들깨가루 청양고추 대파 된장 고추장 다진마...</td>\n",
       "    </tr>\n",
       "    <tr>\n",
       "      <th>2</th>\n",
       "      <td>두부 된장 대파 고춧가루 맛술 소고기다짐육 애호박 다진마늘 물 후추</td>\n",
       "    </tr>\n",
       "    <tr>\n",
       "      <th>3</th>\n",
       "      <td>두부 청양고추 다진마늘 소금 후추 새송이버섯 달걀 부침가루 깨소금 참기름</td>\n",
       "    </tr>\n",
       "    <tr>\n",
       "      <th>4</th>\n",
       "      <td>물 양파 두부 재래식된장 차돌박이 주키니호박 감자 대파 느타리버섯 무 청양고추 간마...</td>\n",
       "    </tr>\n",
       "    <tr>\n",
       "      <th>5</th>\n",
       "      <td>물 등갈비 모짜렐라치즈 양파 떡볶이떡 물엿 맛술 진간장 대파 황설탕 간마늘 고운고춧...</td>\n",
       "    </tr>\n",
       "  </tbody>\n",
       "</table>\n",
       "</div>"
      ],
      "text/plain": [
       "                                                     재료이름\n",
       "게시글 id                                                   \n",
       "1       꽁치통조림 꽁치통조림국물 시래기 물 부추 들깨가루 청양고추 대파 된장 고추장 다진마...\n",
       "2                   두부 된장 대파 고춧가루 맛술 소고기다짐육 애호박 다진마늘 물 후추\n",
       "3                두부 청양고추 다진마늘 소금 후추 새송이버섯 달걀 부침가루 깨소금 참기름\n",
       "4       물 양파 두부 재래식된장 차돌박이 주키니호박 감자 대파 느타리버섯 무 청양고추 간마...\n",
       "5       물 등갈비 모짜렐라치즈 양파 떡볶이떡 물엿 맛술 진간장 대파 황설탕 간마늘 고운고춧..."
      ]
     },
     "execution_count": 6,
     "metadata": {},
     "output_type": "execute_result"
    }
   ],
   "source": [
    "df_corpus = df.groupby(\"게시글 id\").agg({\n",
    "    \"재료이름\": make_sentence\n",
    "})\n",
    "\n",
    "df_corpus.head()"
   ]
  },
  {
   "cell_type": "code",
   "execution_count": 7,
   "metadata": {
    "colab": {
     "base_uri": "https://localhost:8080/"
    },
    "id": "0cEUzLMCEVKi",
    "outputId": "f6c2ac72-448f-4f71-bad5-aeeb982c3177"
   },
   "outputs": [
    {
     "data": {
      "text/plain": [
       "게시글 id\n",
       "1          꽁치통조림 꽁치통조림국물 시래기 물 부추 들깨가루 청양고추 대파 된장 고추장 다진마...\n",
       "2                      두부 된장 대파 고춧가루 맛술 소고기다짐육 애호박 다진마늘 물 후추\n",
       "3                   두부 청양고추 다진마늘 소금 후추 새송이버섯 달걀 부침가루 깨소금 참기름\n",
       "4          물 양파 두부 재래식된장 차돌박이 주키니호박 감자 대파 느타리버섯 무 청양고추 간마...\n",
       "5          물 등갈비 모짜렐라치즈 양파 떡볶이떡 물엿 맛술 진간장 대파 황설탕 간마늘 고운고춧...\n",
       "                                 ...                        \n",
       "7015341       스팸 양배추 대파 양파 소금 후추톡톡* 간장 설탕 굴소스 맛술 참기름 후추톡톡* 물\n",
       "7015342         닭가슴살 크래미 오이 양배추 당근 간장 식초 설탕 알룰로스 겨자 검은깨 다진마늘\n",
       "7015343              새우 올리브오일 마늘 페페론치노 소금 후추 소주 양파 치킨스톡 바게트빵\n",
       "7015344    떡볶이떡 납작분모자 어묵 대파 삶은메추리알 고추장 간장 설탕 올리고당 참치액젓 고춧...\n",
       "7015345                               물 육수팩 신김치 파 참치액젓 소면 소금\n",
       "Name: 재료이름, Length: 16296, dtype: object"
      ]
     },
     "execution_count": 7,
     "metadata": {},
     "output_type": "execute_result"
    }
   ],
   "source": [
    "df_corpus = df_corpus[\"재료이름\"]\n",
    "df_corpus"
   ]
  },
  {
   "cell_type": "code",
   "execution_count": 8,
   "metadata": {
    "id": "4a6O37LpEYHS"
   },
   "outputs": [],
   "source": [
    "corpus = [sent.split() for sent in df_corpus ]"
   ]
  },
  {
   "cell_type": "code",
   "execution_count": 9,
   "metadata": {},
   "outputs": [
    {
     "name": "stdout",
     "output_type": "stream",
     "text": [
      "Requirement already satisfied: gensim in c:\\users\\navyb\\appdata\\local\\programs\\python\\python311\\lib\\site-packages (4.3.2)\n",
      "Requirement already satisfied: numpy>=1.18.5 in c:\\users\\navyb\\appdata\\local\\programs\\python\\python311\\lib\\site-packages (from gensim) (1.25.2)\n",
      "Requirement already satisfied: scipy>=1.7.0 in c:\\users\\navyb\\appdata\\local\\programs\\python\\python311\\lib\\site-packages (from gensim) (1.11.1)\n",
      "Requirement already satisfied: smart-open>=1.8.1 in c:\\users\\navyb\\appdata\\local\\programs\\python\\python311\\lib\\site-packages (from gensim) (6.4.0)\n",
      "Note: you may need to restart the kernel to use updated packages.\n"
     ]
    },
    {
     "name": "stderr",
     "output_type": "stream",
     "text": [
      "\n",
      "[notice] A new release of pip is available: 23.1.2 -> 23.3.1\n",
      "[notice] To update, run: C:\\Users\\navyb\\AppData\\Local\\Programs\\Python\\Python311\\python.exe -m pip install --upgrade pip\n"
     ]
    }
   ],
   "source": [
    "pip install gensim"
   ]
  },
  {
   "cell_type": "code",
   "execution_count": 10,
   "metadata": {
    "id": "TiDylEEVEeIg"
   },
   "outputs": [],
   "source": [
    "from gensim.models import FastText\n",
    "\n",
    "model = FastText(corpus, vector_size=245, window=34, min_count=7, workers=12, epochs=20)"
   ]
  },
  {
   "cell_type": "code",
   "execution_count": 56,
   "metadata": {
    "colab": {
     "base_uri": "https://localhost:8080/"
    },
    "id": "0K5Mp7PnElXb",
    "outputId": "1bd0e4a8-a7f1-4846-bf8d-b789d94604f6"
   },
   "outputs": [
    {
     "data": {
      "text/plain": [
       "[('굵은후추', 0.6830618977546692),\n",
       " ('갈은통후추', 0.5463541746139526),\n",
       " ('통후추', 0.5214223265647888),\n",
       " ('우스타소스', 0.45601555705070496),\n",
       " ('돈가스소스', 0.43961405754089355),\n",
       " ('치킨스톡', 0.4342208802700043),\n",
       " ('가지', 0.4153342545032501),\n",
       " ('스테이크소스', 0.40869081020355225),\n",
       " ('허브솔트', 0.4073390066623688),\n",
       " ('굴소스', 0.40128347277641296)]"
      ]
     },
     "execution_count": 56,
     "metadata": {},
     "output_type": "execute_result"
    }
   ],
   "source": [
    "model.wv.most_similar(\"후추\")"
   ]
  },
  {
   "cell_type": "code",
   "execution_count": null,
   "metadata": {
    "id": "JMI4j0fREwn5"
   },
   "outputs": [],
   "source": [
    "model.save(\"test_fasttext\")"
   ]
  },
  {
   "cell_type": "code",
   "execution_count": 11,
   "metadata": {
    "id": "Ntd-2w-TG4GJ"
   },
   "outputs": [
    {
     "data": {
      "text/html": [
       "<div>\n",
       "<style scoped>\n",
       "    .dataframe tbody tr th:only-of-type {\n",
       "        vertical-align: middle;\n",
       "    }\n",
       "\n",
       "    .dataframe tbody tr th {\n",
       "        vertical-align: top;\n",
       "    }\n",
       "\n",
       "    .dataframe thead th {\n",
       "        text-align: right;\n",
       "    }\n",
       "</style>\n",
       "<table border=\"1\" class=\"dataframe\">\n",
       "  <thead>\n",
       "    <tr style=\"text-align: right;\">\n",
       "      <th></th>\n",
       "      <th>게시글 id</th>\n",
       "      <th>재료이름</th>\n",
       "      <th>재료 용량</th>\n",
       "    </tr>\n",
       "  </thead>\n",
       "  <tbody>\n",
       "    <tr>\n",
       "      <th>0</th>\n",
       "      <td>1</td>\n",
       "      <td>꽁치통조림</td>\n",
       "      <td>1캔</td>\n",
       "    </tr>\n",
       "    <tr>\n",
       "      <th>1</th>\n",
       "      <td>1</td>\n",
       "      <td>꽁치통조림국물</td>\n",
       "      <td>120ml</td>\n",
       "    </tr>\n",
       "    <tr>\n",
       "      <th>2</th>\n",
       "      <td>1</td>\n",
       "      <td>시래기</td>\n",
       "      <td>200g</td>\n",
       "    </tr>\n",
       "    <tr>\n",
       "      <th>3</th>\n",
       "      <td>1</td>\n",
       "      <td>물</td>\n",
       "      <td>800ml</td>\n",
       "    </tr>\n",
       "    <tr>\n",
       "      <th>4</th>\n",
       "      <td>1</td>\n",
       "      <td>부추</td>\n",
       "      <td>약간</td>\n",
       "    </tr>\n",
       "  </tbody>\n",
       "</table>\n",
       "</div>"
      ],
      "text/plain": [
       "  게시글 id     재료이름  재료 용량\n",
       "0      1    꽁치통조림     1캔\n",
       "1      1  꽁치통조림국물  120ml\n",
       "2      1      시래기   200g\n",
       "3      1        물  800ml\n",
       "4      1       부추     약간"
      ]
     },
     "execution_count": 11,
     "metadata": {},
     "output_type": "execute_result"
    }
   ],
   "source": [
    "# 무정제 데이터 활용해보기\n",
    "df2 = pd.read_csv(\"./data./final_1.csv\")\n",
    "df2.head()"
   ]
  },
  {
   "cell_type": "code",
   "execution_count": 12,
   "metadata": {},
   "outputs": [
    {
     "data": {
      "text/html": [
       "<div>\n",
       "<style scoped>\n",
       "    .dataframe tbody tr th:only-of-type {\n",
       "        vertical-align: middle;\n",
       "    }\n",
       "\n",
       "    .dataframe tbody tr th {\n",
       "        vertical-align: top;\n",
       "    }\n",
       "\n",
       "    .dataframe thead th {\n",
       "        text-align: right;\n",
       "    }\n",
       "</style>\n",
       "<table border=\"1\" class=\"dataframe\">\n",
       "  <thead>\n",
       "    <tr style=\"text-align: right;\">\n",
       "      <th></th>\n",
       "      <th>게시글 id</th>\n",
       "      <th>재료이름</th>\n",
       "    </tr>\n",
       "  </thead>\n",
       "  <tbody>\n",
       "    <tr>\n",
       "      <th>0</th>\n",
       "      <td>1</td>\n",
       "      <td>꽁치통조림</td>\n",
       "    </tr>\n",
       "    <tr>\n",
       "      <th>1</th>\n",
       "      <td>1</td>\n",
       "      <td>꽁치통조림국물</td>\n",
       "    </tr>\n",
       "    <tr>\n",
       "      <th>2</th>\n",
       "      <td>1</td>\n",
       "      <td>시래기</td>\n",
       "    </tr>\n",
       "    <tr>\n",
       "      <th>3</th>\n",
       "      <td>1</td>\n",
       "      <td>물</td>\n",
       "    </tr>\n",
       "    <tr>\n",
       "      <th>4</th>\n",
       "      <td>1</td>\n",
       "      <td>부추</td>\n",
       "    </tr>\n",
       "    <tr>\n",
       "      <th>...</th>\n",
       "      <td>...</td>\n",
       "      <td>...</td>\n",
       "    </tr>\n",
       "    <tr>\n",
       "      <th>155101</th>\n",
       "      <td>7015345</td>\n",
       "      <td>신김치</td>\n",
       "    </tr>\n",
       "    <tr>\n",
       "      <th>155102</th>\n",
       "      <td>7015345</td>\n",
       "      <td>파</td>\n",
       "    </tr>\n",
       "    <tr>\n",
       "      <th>155103</th>\n",
       "      <td>7015345</td>\n",
       "      <td>참치액젓</td>\n",
       "    </tr>\n",
       "    <tr>\n",
       "      <th>155104</th>\n",
       "      <td>7015345</td>\n",
       "      <td>소면</td>\n",
       "    </tr>\n",
       "    <tr>\n",
       "      <th>155105</th>\n",
       "      <td>7015345</td>\n",
       "      <td>소금</td>\n",
       "    </tr>\n",
       "  </tbody>\n",
       "</table>\n",
       "<p>155106 rows × 2 columns</p>\n",
       "</div>"
      ],
      "text/plain": [
       "         게시글 id     재료이름\n",
       "0             1    꽁치통조림\n",
       "1             1  꽁치통조림국물\n",
       "2             1      시래기\n",
       "3             1        물\n",
       "4             1       부추\n",
       "...         ...      ...\n",
       "155101  7015345      신김치\n",
       "155102  7015345        파\n",
       "155103  7015345     참치액젓\n",
       "155104  7015345       소면\n",
       "155105  7015345       소금\n",
       "\n",
       "[155106 rows x 2 columns]"
      ]
     },
     "execution_count": 12,
     "metadata": {},
     "output_type": "execute_result"
    }
   ],
   "source": [
    "df2.drop(columns=['재료 용량'], inplace=True)\n",
    "df2"
   ]
  },
  {
   "cell_type": "code",
   "execution_count": 13,
   "metadata": {},
   "outputs": [],
   "source": [
    "def make_sentence(data):\n",
    "    # 문자열로 변환 후 \" \"으로 join\n",
    "    return \" \".join(str(item) for item in data).strip()\n",
    "\n",
    "# 그룹화 후 agg 함수에 적용\n",
    "# df2.groupby(\"게시글 id\").agg({\n",
    "#     \"재료이름\": make_sentence\n",
    "# }).to_csv(\"corpus.csv\")"
   ]
  },
  {
   "cell_type": "code",
   "execution_count": 14,
   "metadata": {},
   "outputs": [
    {
     "data": {
      "text/html": [
       "<div>\n",
       "<style scoped>\n",
       "    .dataframe tbody tr th:only-of-type {\n",
       "        vertical-align: middle;\n",
       "    }\n",
       "\n",
       "    .dataframe tbody tr th {\n",
       "        vertical-align: top;\n",
       "    }\n",
       "\n",
       "    .dataframe thead th {\n",
       "        text-align: right;\n",
       "    }\n",
       "</style>\n",
       "<table border=\"1\" class=\"dataframe\">\n",
       "  <thead>\n",
       "    <tr style=\"text-align: right;\">\n",
       "      <th></th>\n",
       "      <th>재료이름</th>\n",
       "    </tr>\n",
       "    <tr>\n",
       "      <th>게시글 id</th>\n",
       "      <th></th>\n",
       "    </tr>\n",
       "  </thead>\n",
       "  <tbody>\n",
       "    <tr>\n",
       "      <th>1</th>\n",
       "      <td>꽁치통조림 꽁치통조림국물 시래기 물 부추 들깨가루 청양고추 대파 된장 고추장 다진마...</td>\n",
       "    </tr>\n",
       "    <tr>\n",
       "      <th>10</th>\n",
       "      <td>신김치 황설탕 물 부침가루 청양고추 대파 소시지 고운고춧가루 식용유</td>\n",
       "    </tr>\n",
       "    <tr>\n",
       "      <th>100</th>\n",
       "      <td>귤 청포도 블루베리 설탕 물 물엿</td>\n",
       "    </tr>\n",
       "    <tr>\n",
       "      <th>101</th>\n",
       "      <td>대패삼겹살 양파 달걀노른자 설탕 간장 맛술 설탕 다진마늘</td>\n",
       "    </tr>\n",
       "    <tr>\n",
       "      <th>102</th>\n",
       "      <td>가지 간장 설탕 청주 미림 물</td>\n",
       "    </tr>\n",
       "  </tbody>\n",
       "</table>\n",
       "</div>"
      ],
      "text/plain": [
       "                                                     재료이름\n",
       "게시글 id                                                   \n",
       "1       꽁치통조림 꽁치통조림국물 시래기 물 부추 들깨가루 청양고추 대파 된장 고추장 다진마...\n",
       "10                  신김치 황설탕 물 부침가루 청양고추 대파 소시지 고운고춧가루 식용유\n",
       "100                                    귤 청포도 블루베리 설탕 물 물엿\n",
       "101                       대패삼겹살 양파 달걀노른자 설탕 간장 맛술 설탕 다진마늘\n",
       "102                                      가지 간장 설탕 청주 미림 물"
      ]
     },
     "execution_count": 14,
     "metadata": {},
     "output_type": "execute_result"
    }
   ],
   "source": [
    "df_corpus = df2.groupby(\"게시글 id\").agg({\n",
    "    \"재료이름\": make_sentence\n",
    "})\n",
    "\n",
    "df_corpus.head()"
   ]
  },
  {
   "cell_type": "code",
   "execution_count": 15,
   "metadata": {},
   "outputs": [
    {
     "data": {
      "text/plain": [
       "게시글 id\n",
       "1         꽁치통조림 꽁치통조림국물 시래기 물 부추 들깨가루 청양고추 대파 된장 고추장 다진마...\n",
       "10                    신김치 황설탕 물 부침가루 청양고추 대파 소시지 고운고춧가루 식용유\n",
       "100                                      귤 청포도 블루베리 설탕 물 물엿\n",
       "101                         대패삼겹살 양파 달걀노른자 설탕 간장 맛술 설탕 다진마늘\n",
       "102                                        가지 간장 설탕 청주 미림 물\n",
       "                                ...                        \n",
       "96                                          홍차티백 설탕 물 우유 생강\n",
       "97                             호박 감자 춘장 후추 물 당근 돼지고기 물 전분가루\n",
       "98        굴 가리비 버섯 대파 고춧가루 국간장 다진마늘 다시육수 홍합 배추 양파 식용유 굴소...\n",
       "99                                  바나나 소금 버터 연유 달걀 또띠아 흑설탕\n",
       "postid    콩나물 달래 쌀 간장 고추가루 통깨 참기름 다진마늘 불닭볶음면 쫄면사리 삶은계란 잔...\n",
       "Name: 재료이름, Length: 16289, dtype: object"
      ]
     },
     "execution_count": 15,
     "metadata": {},
     "output_type": "execute_result"
    }
   ],
   "source": [
    "df_corpus = df_corpus[\"재료이름\"]\n",
    "df_corpus"
   ]
  },
  {
   "cell_type": "code",
   "execution_count": 16,
   "metadata": {},
   "outputs": [],
   "source": [
    "corpus = [sent.split() for sent in df_corpus ]"
   ]
  },
  {
   "cell_type": "code",
   "execution_count": 17,
   "metadata": {},
   "outputs": [],
   "source": [
    "from gensim.models import FastText\n",
    "\n",
    "model = FastText(corpus, vector_size=245, window=34, min_count=7, workers=12, epochs=20)"
   ]
  },
  {
   "cell_type": "code",
   "execution_count": 25,
   "metadata": {},
   "outputs": [
    {
     "data": {
      "text/plain": [
       "[('둥근호박', 0.8833719491958618),\n",
       " ('주키니호박', 0.8547590374946594),\n",
       " ('애호박', 0.8352052569389343),\n",
       " ('쥬키니호박', 0.8214779496192932),\n",
       " ('호박잎', 0.7630327939987183),\n",
       " ('늙은호박', 0.7375006079673767),\n",
       " ('칼국수', 0.722743034362793),\n",
       " ('조갯살', 0.6941485404968262),\n",
       " ('배춧잎', 0.6895915269851685),\n",
       " ('칼국수면', 0.66028892993927)]"
      ]
     },
     "execution_count": 25,
     "metadata": {},
     "output_type": "execute_result"
    }
   ],
   "source": [
    "model.wv.most_similar(\"호박\")"
   ]
  },
  {
   "cell_type": "code",
   "execution_count": null,
   "metadata": {},
   "outputs": [],
   "source": []
  }
 ],
 "metadata": {
  "colab": {
   "provenance": []
  },
  "kernelspec": {
   "display_name": "Python 3 (ipykernel)",
   "language": "python",
   "name": "python3"
  },
  "language_info": {
   "codemirror_mode": {
    "name": "ipython",
    "version": 3
   },
   "file_extension": ".py",
   "mimetype": "text/x-python",
   "name": "python",
   "nbconvert_exporter": "python",
   "pygments_lexer": "ipython3",
   "version": "3.11.4"
  }
 },
 "nbformat": 4,
 "nbformat_minor": 4
}
